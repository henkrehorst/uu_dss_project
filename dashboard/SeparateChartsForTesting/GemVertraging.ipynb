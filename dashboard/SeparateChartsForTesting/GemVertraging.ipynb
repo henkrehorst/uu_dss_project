{
 "cells": [
  {
   "cell_type": "code",
   "metadata": {
    "ExecuteTime": {
     "end_time": "2024-10-27T17:36:13.150493Z",
     "start_time": "2024-10-27T17:36:12.987748Z"
    }
   },
   "source": [
    "import pandas as pd\n",
    "import numpy as np\n",
    "import glob\n",
    "\n",
    "# Load all CSV files for the years 2017 to 2023\n",
    "file_paths = ['disruptions-2017.csv','disruptions-2018.csv','disruptions-2019.csv','disruptions-2020.csv','disruptions-2021.csv','disruptions-2022.csv','disruptions-2023.csv']\n",
    "\n",
    "#Added the root path for it to work on my (mac) machine\n",
    "personalRootPath = \"~/PycharmProjects/uu_dss_project/dashboard/SeparateChartsForTesting/Data/Disruptions/\"\n",
    "dataframes = [pd.read_csv(personalRootPath+file) for file in file_paths]\n",
    "\n",
    "# Concatenate all dataframes into a single dataframe\n",
    "data = pd.concat(dataframes, ignore_index=True)\n",
    "\n",
    "# Extract the year from the 'start_time' column and add it as a new column\n",
    "data['year'] = pd.to_datetime(data['start_time']).dt.year\n",
    "\n",
    "# Quick check if dataframes are concatenated correctly\n",
    "print(data['year'])"
   ],
   "outputs": [
    {
     "name": "stdout",
     "output_type": "stream",
     "text": [
      "0        2017\n",
      "1        2017\n",
      "2        2017\n",
      "3        2017\n",
      "4        2017\n",
      "         ... \n",
      "35201    2023\n",
      "35202    2023\n",
      "35203    2023\n",
      "35204    2023\n",
      "35205    2023\n",
      "Name: year, Length: 35206, dtype: int32\n"
     ]
    }
   ],
   "execution_count": 13
  },
  {
   "cell_type": "code",
   "metadata": {
    "ExecuteTime": {
     "end_time": "2024-10-27T17:41:15.627599Z",
     "start_time": "2024-10-27T17:41:15.616118Z"
    }
   },
   "source": [
    "# Group by 'Traject' (the column 'rdt_lines') and 'year', then calculate the average delay per line\n",
    "average_delay_per_line = data.groupby(['rdt_lines', 'year'])['duration_minutes'].mean().reset_index()\n",
    "\n",
    "# Rename columns for clarity\n",
    "average_delay_per_line.columns = ['Traject', 'Year', 'Average_Delay_Minutes']\n",
    "\n",
    "print(average_delay_per_line)"
   ],
   "outputs": [
    {
     "name": "stdout",
     "output_type": "stream",
     "text": [
      "                           Traject  Year  Average_Delay_Minutes\n",
      "0     's-Hertogenbosch - Eindhoven  2017             110.300000\n",
      "1     's-Hertogenbosch - Eindhoven  2018              78.157895\n",
      "2     's-Hertogenbosch - Eindhoven  2019             113.088889\n",
      "3     's-Hertogenbosch - Eindhoven  2020              47.142857\n",
      "4     's-Hertogenbosch - Eindhoven  2021             189.476190\n",
      "...                            ...   ...                    ...\n",
      "1902         Winterswijk - Zutphen  2019              99.266667\n",
      "1903         Winterswijk - Zutphen  2020              59.777778\n",
      "1904         Winterswijk - Zutphen  2021             116.111111\n",
      "1905         Winterswijk - Zutphen  2022             199.571429\n",
      "1906         Winterswijk - Zutphen  2023             259.266667\n",
      "\n",
      "[1907 rows x 3 columns]\n"
     ]
    }
   ],
   "execution_count": 18
  }
 ],
 "metadata": {
  "kernelspec": {
   "display_name": "Python 3",
   "language": "python",
   "name": "python3"
  },
  "language_info": {
   "codemirror_mode": {
    "name": "ipython",
    "version": 3
   },
   "file_extension": ".py",
   "mimetype": "text/x-python",
   "name": "python",
   "nbconvert_exporter": "python",
   "pygments_lexer": "ipython3",
   "version": "3.12.7"
  }
 },
 "nbformat": 4,
 "nbformat_minor": 2
}
