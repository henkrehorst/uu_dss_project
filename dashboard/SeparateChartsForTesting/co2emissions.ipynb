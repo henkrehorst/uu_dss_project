{
 "cells": [
  {
   "cell_type": "code",
   "execution_count": 14,
   "metadata": {},
   "outputs": [
    {
     "name": "stdout",
     "output_type": "stream",
     "text": [
      "Kolommen in DataFrame: Index(['kenteken', 'brandstof_volgnummer', 'brandstof_omschrijving',\n",
      "       'emissiecode_omschrijving', 'uitlaatemissieniveau',\n",
      "       'opgegeven_maximum_snelheid', 'nettomaximumvermogen',\n",
      "       'geluidsniveau_rijdend', 'geluidsniveau_stationair', 'roetuitstoot',\n",
      "       'toerental_geluidsniveau', 'milieuklasse_eg_goedkeuring_zwaar',\n",
      "       'brandstofverbruik_gecombineerd', 'uitstoot_deeltjes_zwaar',\n",
      "       'klasse_hybride_elektrisch_voertuig',\n",
      "       'milieuklasse_eg_goedkeuring_licht', 'uitstoot_deeltjes_licht'],\n",
      "      dtype='object')\n",
      "Kolom 'emissie_co2_gecombineerd_wltp' niet gevonden in de data.\n"
     ]
    }
   ],
   "source": [
    "import pandas as pd\n",
    "import requests\n",
    "\n",
    "# RDW API URL\n",
    "url = \"https://opendata.rdw.nl/resource/8ys7-d773.json\"\n",
    "\n",
    "response = requests.get(url)\n",
    "data = response.json()\n",
    "\n",
    "df = pd.json_normalize(data)\n",
    "\n",
    "print(\"Kolommen in DataFrame:\", df.columns)\n",
    "\n",
    "\n",
    "# check whehther 'emissie_co2_gecombineerd_wltp' exists\n",
    "if 'emissie_co2_gecombineerd_wltp' in df.columns:\n",
    "    co2_emissie = df['emissie_co2_gecombineerd_wltp']\n",
    "    print(co2_emissie.head(10))\n",
    "else:\n",
    "    print(\"Kolom 'emissie_co2_gecombineerd_wltp' niet gevonden in de data.\")"
   ]
  },
  {
   "cell_type": "code",
   "execution_count": 19,
   "metadata": {},
   "outputs": [
    {
     "name": "stdout",
     "output_type": "stream",
     "text": [
      "    brandstof_volgnummer brandstofverbruik_buiten  \\\n",
      "0                      1                     5.90   \n",
      "1                      1                     7.20   \n",
      "2                      1                     6.70   \n",
      "3                      1                     7.60   \n",
      "4                      1                     8.60   \n",
      "..                   ...                      ...   \n",
      "995                    2                     3.20   \n",
      "996                    2                     3.20   \n",
      "997                    2                     3.20   \n",
      "998                    2                     3.20   \n",
      "999                    2                     3.20   \n",
      "\n",
      "    brandstofverbruik_gecombineerd brandstofverbruik_stad  \\\n",
      "0                             6.90                   8.70   \n",
      "1                             7.50                   7.90   \n",
      "2                             7.10                   7.80   \n",
      "3                             8.10                   9.10   \n",
      "4                             9.00                   9.80   \n",
      "..                             ...                    ...   \n",
      "995                           2.80                   2.20   \n",
      "996                           2.80                   2.20   \n",
      "997                           2.80                   2.20   \n",
      "998                           2.80                   2.20   \n",
      "999                           2.80                   2.20   \n",
      "\n",
      "    co2_uitstoot_gecombineerd emissie_co2_gecombineerd_wltp  \n",
      "0                         183                             1  \n",
      "1                         194                             1  \n",
      "2                         187                             1  \n",
      "3                         213                             1  \n",
      "4                         235                             1  \n",
      "..                        ...                           ...  \n",
      "995                        64                            87  \n",
      "996                        64                            87  \n",
      "997                        64                            87  \n",
      "998                        64                            87  \n",
      "999                        64                            87  \n",
      "\n",
      "[1000 rows x 6 columns]\n"
     ]
    }
   ],
   "source": [
    "import requests\n",
    "import pandas as pd\n",
    "\n",
    "#the URL of the new API endpoint (old one doesnt work well)\n",
    "# Could do with just the columnnames of the columns we are interested in, if we would like to use all columns we can use SELECT *\n",
    "url = \"https://opendata.rdw.nl/resource/8ys7-d773.json?$query=SELECT kenteken, brandstof_volgnummer, brandstof_omschrijving, brandstofverbruik_buiten, brandstofverbruik_gecombineerd, brandstofverbruik_stad, co2_uitstoot_gecombineerd, co2_uitstoot_gewogen, geluidsniveau_rijdend, geluidsniveau_stationair, emissiecode_omschrijving, milieuklasse_eg_goedkeuring_licht, milieuklasse_eg_goedkeuring_zwaar, uitstoot_deeltjes_licht, uitstoot_deeltjes_zwaar, nettomaximumvermogen, nominaal_continu_maximumvermogen, roetuitstoot, toerental_geluidsniveau, emis_deeltjes_type1_wltp, emissie_co2_gecombineerd_wltp, emis_co2_gewogen_gecombineerd_wltp, brandstof_verbruik_gecombineerd_wltp, brandstof_verbruik_gewogen_gecombineerd_wltp, elektrisch_verbruik_enkel_elektrisch_wltp, actie_radius_enkel_elektrisch_wltp, actie_radius_enkel_elektrisch_stad_wltp, elektrisch_verbruik_extern_opladen_wltp, actie_radius_extern_opladen_wltp, actie_radius_extern_opladen_stad_wltp, max_vermogen_15_minuten, max_vermogen_60_minuten, netto_max_vermogen_elektrisch, klasse_hybride_elektrisch_voertuig, opgegeven_maximum_snelheid, uitlaatemissieniveau WHERE (emissie_co2_gecombineerd_wltp > 0) AND (brandstofverbruik_gecombineerd > '0')\"\n",
    "\n",
    "response = requests.get(url)\n",
    "data = response.json()\n",
    "\n",
    "df = pd.DataFrame(data)\n",
    "\n",
    "relevant_columns = [\n",
    "    \"brandstof_volgnummer\",\n",
    "    \"brandstofverbruik_buiten\",\n",
    "    \"brandstofverbruik_gecombineerd\",\n",
    "    \"brandstofverbruik_stad\",\n",
    "    \"co2_uitstoot_gecombineerd\",\n",
    "    \"emissie_co2_gecombineerd_wltp\"\n",
    "]\n",
    "\n",
    "df_filtered = df[relevant_columns]\n",
    "\n",
    "print(df_filtered)"
   ]
  },
  {
   "cell_type": "code",
   "execution_count": null,
   "metadata": {},
   "outputs": [],
   "source": []
  }
 ],
 "metadata": {
  "kernelspec": {
   "display_name": "Python 3",
   "language": "python",
   "name": "python3"
  },
  "language_info": {
   "codemirror_mode": {
    "name": "ipython",
    "version": 3
   },
   "file_extension": ".py",
   "mimetype": "text/x-python",
   "name": "python",
   "nbconvert_exporter": "python",
   "pygments_lexer": "ipython3",
   "version": "3.11.9"
  }
 },
 "nbformat": 4,
 "nbformat_minor": 2
}
