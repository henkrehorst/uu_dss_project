{
 "cells": [
  {
   "cell_type": "markdown",
   "id": "dab306e3",
   "metadata": {},
   "source": [
    "# INFOMDSS Team Project Examples"
   ]
  },
  {
   "cell_type": "markdown",
   "id": "ef17bea2-3e2e-465d-908c-c5dd3429e282",
   "metadata": {},
   "source": [
    "This Docker container may serve as a starting point for your course project.\n",
    "It includes a set of simple instructions to:\n",
    "<br>\n",
    " -> load a dataset (locally)\n",
    " <br>\n",
    " -> into a database\n",
    " <br>\n",
    " -> and be able to query data from the database\n",
    " <br>\n",
    " -> and make simple visualizations on the queried data"
   ]
  },
  {
   "cell_type": "code",
   "execution_count": 1,
   "id": "603f88b8",
   "metadata": {},
   "outputs": [],
   "source": [
    "# Imports\n",
    "\n",
    "from sqlalchemy import create_engine, text, inspect, Table\n",
    "import pandas as pd"
   ]
  },
  {
   "cell_type": "markdown",
   "id": "10bbf420-fda0-4f5e-9268-aa7a32db6ae7",
   "metadata": {},
   "source": [
    "## Load csv file\n",
    "\n",
    "Load the file called world_population.csv into a pandas dataframe. Make sure you parse the columns correctly."
   ]
  },
  {
   "cell_type": "code",
   "execution_count": 2,
   "id": "1d8f6be3-7b74-41eb-8b60-3b9aee1434d1",
   "metadata": {},
   "outputs": [
    {
     "name": "stdout",
     "output_type": "stream",
     "text": [
      "Folders in the parent directory:\n",
      ".npm\n",
      "data\n",
      "notebook\n",
      ".jupyter\n",
      ".ipython\n",
      ".local\n"
     ]
    }
   ],
   "source": [
    "import os\n",
    "\n",
    "# Get the current working directory\n",
    "current_directory = os.getcwd()\n",
    "\n",
    "# Get the parent directory (directory above the current directory)\n",
    "parent_directory = os.path.dirname(current_directory)\n",
    "\n",
    "# List all folders in the parent directory\n",
    "folders_in_parent_directory = [folder for folder in os.listdir(parent_directory) if os.path.isdir(os.path.join(parent_directory, folder))]\n",
    "\n",
    "# Print the list of folders\n",
    "print(\"Folders in the parent directory:\")\n",
    "for folder in folders_in_parent_directory:\n",
    "    print(folder)\n"
   ]
  },
  {
   "cell_type": "code",
   "execution_count": 3,
   "id": "761fa497-e16f-4c1d-83e7-7cb8cfda5288",
   "metadata": {},
   "outputs": [
    {
     "name": "stdout",
     "output_type": "stream",
     "text": [
      "          Region          Type  Year  TotalPopulation YearIncrease\n",
      "0          WORLD         World  1950          2477675         0,00\n",
      "1          WORLD         World  1951          2520970         1,75\n",
      "2          WORLD         World  1952          2565291         1,76\n",
      "3          WORLD         World  1953          2615251         1,95\n",
      "4          WORLD         World  1954          2665307         1,91\n",
      "..           ...           ...   ...              ...          ...\n",
      "138  Netherlands  Country/Area  2016            17082         0,48\n",
      "139  Netherlands  Country/Area  2017            17167         0,50\n",
      "140  Netherlands  Country/Area  2018            17248         0,47\n",
      "141  Netherlands  Country/Area  2019            17324         0,44\n",
      "142  Netherlands  Country/Area  2020            17402         0,45\n",
      "\n",
      "[143 rows x 5 columns]\n"
     ]
    }
   ],
   "source": [
    "# Load the csv into a pandas dataframe (https://www.w3schools.com/python/pandas/pandas_dataframes.asp)\n",
    "world_population_df = pd.read_csv(\"../data/world_population.csv\", delimiter=\";\")\n",
    "\n",
    "print(world_population_df)"
   ]
  },
  {
   "cell_type": "markdown",
   "id": "06278d87-387b-4607-89ab-2d78eeafc1be",
   "metadata": {},
   "source": [
    "## Store data into database\n",
    "Save the contents in the world_population file to the a table called population in the database. "
   ]
  },
  {
   "cell_type": "code",
   "execution_count": 4,
   "id": "b086dcd4-80e9-4874-9c77-1887b8313716",
   "metadata": {},
   "outputs": [
    {
     "data": {
      "text/plain": [
       "143"
      ]
     },
     "execution_count": 4,
     "metadata": {},
     "output_type": "execute_result"
    }
   ],
   "source": [
    "# Create a SQLAlchemy engine to connect to the PostgreSQL database\n",
    "engine = create_engine(\"postgresql://student:infomdss@db_dashboard:5432/dashboard\")\n",
    "\n",
    "# Establish a connection to the database using the engine\n",
    "# The 'with' statement ensures that the connection is properly closed when done\n",
    "with engine.connect() as conn:\n",
    "    # Execute an SQL command to drop the 'population' table if it exists\n",
    "    # The text() function allows you to execute raw SQL statements\n",
    "    result = conn.execute(text(\"DROP TABLE IF EXISTS population CASCADE;\"))\n",
    "\n",
    "# Assuming you have a DataFrame named 'world_population_df', the following line\n",
    "# writes the data from the DataFrame to a new 'population' table in the database\n",
    "# If the 'population' table already exists, it will be replaced with the new data\n",
    "# This prints the number of rows entered in the database table\n",
    "world_population_df.to_sql(\"population\", engine, if_exists=\"replace\", index=True)"
   ]
  },
  {
   "cell_type": "markdown",
   "id": "c72e7287-6685-45f2-a7cd-52d367350439",
   "metadata": {},
   "source": [
    "## Fetch data from database\n",
    "Read the table **population** from the database in a dataframe. Make sure the index column is the index of the dataframe."
   ]
  },
  {
   "cell_type": "code",
   "execution_count": 5,
   "id": "722f1b18-5759-4267-83e1-b3fe2fa850e1",
   "metadata": {},
   "outputs": [
    {
     "name": "stdout",
     "output_type": "stream",
     "text": [
      "            Region          Type  Year  TotalPopulation YearIncrease\n",
      "index                                                               \n",
      "0            WORLD         World  1950          2477675         0,00\n",
      "1            WORLD         World  1951          2520970         1,75\n",
      "2            WORLD         World  1952          2565291         1,76\n",
      "3            WORLD         World  1953          2615251         1,95\n",
      "4            WORLD         World  1954          2665307         1,91\n",
      "...            ...           ...   ...              ...          ...\n",
      "138    Netherlands  Country/Area  2016            17082         0,48\n",
      "139    Netherlands  Country/Area  2017            17167         0,50\n",
      "140    Netherlands  Country/Area  2018            17248         0,47\n",
      "141    Netherlands  Country/Area  2019            17324         0,44\n",
      "142    Netherlands  Country/Area  2020            17402         0,45\n",
      "\n",
      "[143 rows x 5 columns]\n"
     ]
    }
   ],
   "source": [
    "# Read data from the SQL table named 'population' using pandas\n",
    "# 'pd.read_sql_table' is a pandas function that reads data from an SQL table\n",
    "# 'db_conn' is the database connection object previously established\n",
    "population_table = pd.read_sql_table('population', engine, index_col='index')\n",
    "\n",
    "# This line prints the entire DataFrame to the output\n",
    "print(population_table)\n",
    "\n",
    "# Note that we transformed the data from a .csv file to a pandas dataframe\n",
    "# Then loaded the dataframe into the database table\n",
    "# And now we have pulled the data from the database and put it in a dataframe again\n",
    "# This is an example of how you might store and fetch data to and from your database for your dashboard"
   ]
  },
  {
   "cell_type": "markdown",
   "id": "13b5cde8-4af9-4e0c-b727-3c9770e72660",
   "metadata": {},
   "source": [
    "## Plot data\n",
    "We can meaningfully plot the data from the database in many different ways to give users of the dashboard a visual impression of the data. \n",
    "<br>\n",
    "For the example data on the world population, we plot a line chart as an example. "
   ]
  },
  {
   "cell_type": "code",
   "execution_count": 11,
   "id": "a5e7133a-bfc3-41c2-b202-82bbf0202289",
   "metadata": {},
   "outputs": [
    {
     "data": {
      "image/png": "[encoded data removed]",
      "text/plain": [
       "<Figure size 800x600 with 1 Axes>"
      ]
     },
     "metadata": {},
     "output_type": "display_data"
    }
   ],
   "source": [
    "import matplotlib.pyplot as plt\n",
    "\n",
    "# The data is not yet ready to plot charts with and thus needs to be processed first.\n",
    "# Convert 'Total Population' to numeric (remove the whitespaces and convert to an integer)\n",
    "population_table['TotalPopulation'] = population_table['TotalPopulation'].astype(int)\n",
    "\n",
    "# Filter data for 'WORLD' as for this chart we are only interested in the total world population\n",
    "world_data = population_table[population_table['Region'] == 'WORLD']\n",
    "\n",
    "fig, ax = plt.subplots(figsize=(8, 6))\n",
    "ax.plot(world_data['Year'], world_data['TotalPopulation'], label='World Population')  # Add label for the legend\n",
    "\n",
    "# Add a legend\n",
    "ax.legend()\n",
    "\n",
    "# Add a plot title\n",
    "ax.set_title('World Population Over Time')\n",
    "\n",
    "plt.show()  # Show the plot\n"
   ]
  },
  {
   "cell_type": "code",
   "execution_count": null,
   "id": "43d0b9b8-9197-4611-8020-3526d82fe788",
   "metadata": {},
   "outputs": [],
   "source": []
  }
 ],
 "metadata": {
  "kernelspec": {
   "display_name": "Python 3 (ipykernel)",
   "language": "python",
   "name": "python3"
  },
  "language_info": {
   "codemirror_mode": {
    "name": "ipython",
    "version": 3
   },
   "file_extension": ".py",
   "mimetype": "text/x-python",
   "name": "python",
   "nbconvert_exporter": "python",
   "pygments_lexer": "ipython3",
   "version": "3.11.5"
  }
 },
 "nbformat": 4,
 "nbformat_minor": 5
}
